{
  "cells": [
    {
      "cell_type": "code",
      "execution_count": 70,
      "metadata": {
        "id": "0GoeJgx7tMJI"
      },
      "outputs": [],
      "source": [
        "# Name: Maxwell Ahmadi\n",
        "# Date: 03/21/2023\n",
        "# Project: Deliverable_8"
      ]
    },
    {
      "cell_type": "code",
      "execution_count": 71,
      "metadata": {
        "id": "bDvctGenWKd4"
      },
      "outputs": [],
      "source": [
        "import numpy as np "
      ]
    },
    {
      "cell_type": "code",
      "execution_count": 72,
      "metadata": {
        "id": "tm7tt4igWUKL"
      },
      "outputs": [],
      "source": [
        "# Define Method #1\n",
        "def random_list(size): # Establishing the list randomizer\n",
        "    list = []\n",
        "    for i in range(size):\n",
        "      list.append(np.random.randint(10,50))\n",
        "    return list\n",
        "\n",
        "# Defining Method #2\n",
        "def sum_random (list): # Establishing the sum calculation\n",
        "    sum = 0\n",
        "    for i in range(len(list)):\n",
        "      sum = sum + list[i]\n",
        "    return sum"
      ]
    },
    {
      "cell_type": "code",
      "execution_count": 73,
      "metadata": {
        "colab": {
          "base_uri": "https://localhost:8080/"
        },
        "id": "1kXWYitfWai1",
        "outputId": "f6232c4a-1772-4964-c43c-c7fc37e1d0f0"
      },
      "outputs": [
        {
          "output_type": "stream",
          "name": "stdout",
          "text": [
            "Enter an integer between 5 and 15: 12\n",
            "The elements of the array are:\n",
            "[29, 26, 17, 19, 26, 47, 27, 39, 23, 36, 28, 27]\n",
            "The sum is:\n",
            "344\n"
          ]
        }
      ],
      "source": [
        "n = int(input(\"Enter an integer between 5 and 15: \"))\n",
        "\n",
        "while True:\n",
        "  if n>=5 and n<=15:\n",
        "    MyList = random_list(n)\n",
        "    print(\"The elements of the array are:\")\n",
        "    print(MyList)\n",
        "    MySum = sum_random(MyList)\n",
        "    print(\"The sum is:\")\n",
        "    print(MySum)\n",
        "  else:\n",
        "    print(\"Invalid, the entered integer is not between 5 and 15. Please run the program again.\")\n",
        "  break"
      ]
    }
  ],
  "metadata": {
    "colab": {
      "provenance": []
    },
    "kernelspec": {
      "display_name": "Python 3",
      "name": "python3"
    },
    "language_info": {
      "name": "python"
    }
  },
  "nbformat": 4,
  "nbformat_minor": 0
}